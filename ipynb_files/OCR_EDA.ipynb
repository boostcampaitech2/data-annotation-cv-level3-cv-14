{
 "cells": [
  {
   "cell_type": "markdown",
   "metadata": {
    "id": "h24KpW2YL9Cm"
   },
   "source": [
    "## EDA 할 내용\n",
    "- 이미지 당 단어 개수 분포 \n",
    "- 전체 단어 길이 분포\n",
    "- image width, height\n",
    "- 전체 BBOX 크기 분포\n",
    "    - 넓이 기준\n",
    "- 전체 태그 별 분포\n",
    "    - 언어\n",
    "    - orientation\n",
    "    - word tag\n",
    "    - image tag\n",
    "- aspect ratio (가로/세로)\n",
    "   - polygon은 rectify하기"
   ]
  },
  {
   "cell_type": "code",
   "execution_count": null,
   "metadata": {
    "id": "2pR_L1BHL9Co"
   },
   "outputs": [],
   "source": [
    "'''\n",
    "original code source : https://www.kaggle.com/aidapearson/eda-starter-notebook\n",
    "'''"
   ]
  },
  {
   "cell_type": "code",
   "execution_count": 1,
   "metadata": {
    "id": "eO7OcR7bL9Cp"
   },
   "outputs": [],
   "source": [
    "%matplotlib inline\n",
    "import glob\n",
    "import json\n",
    "import matplotlib.pyplot as plt\n",
    "import pandas as pd\n",
    "import seaborn as sns\n",
    "from pathlib import Path\n",
    "from PIL import Image\n",
    "from collections import Counter\n",
    "import numpy as np"
   ]
  },
  {
   "cell_type": "code",
   "execution_count": 2,
   "metadata": {
    "id": "Y75ZoSi5L9Cq"
   },
   "outputs": [],
   "source": [
    "from IPython.core.interactiveshell import InteractiveShell\n",
    "InteractiveShell.ast_node_interactivity = \"all\""
   ]
  },
  {
   "cell_type": "code",
   "execution_count": 3,
   "metadata": {
    "id": "2yOmyrp5L9Cq"
   },
   "outputs": [],
   "source": [
    "def read_json(filename):\n",
    "    with Path(filename).open(encoding='utf8') as handle:\n",
    "        ann = json.load(handle)\n",
    "    return ann"
   ]
  },
  {
   "cell_type": "code",
   "execution_count": 5,
   "metadata": {
    "id": "F5_5YmOdL9Cq"
   },
   "outputs": [],
   "source": [
    "# gt file과 raw image file path를 이용해 데이터를 불러온다. 아래 경로는 예시.\n",
    "data = read_json(\"../../input/data/ReposData/ufo/ufoannotation.json\")"
   ]
  },
  {
   "cell_type": "code",
   "execution_count": 6,
   "metadata": {
    "id": "dCiJnhnBL9Cr"
   },
   "outputs": [],
   "source": [
    "def get_box_size(quads):\n",
    "    \"\"\" 단어 영역의 사각형 좌표가 주어졌을 때 가로, 세로길이를 계산해주는 함수.\n",
    "    TODO: 각 변의 길이를 단순히 max로 처리하기때문에 직사각형에 가까운 형태가 아니면 약간 왜곡이 있다.\n",
    "    Args:\n",
    "        quads: np.ndarray(n, 4, 2) n개 단어 bounding-box의 4개 점 좌표 (단위 pixel)\n",
    "    Return:\n",
    "        sizes: np.ndarray(n, 2) n개 box의 (height, width)쌍\n",
    "    \"\"\"\n",
    "    dists = []\n",
    "    for i, j in [(1, 2), (3, 0), (0, 1), (2, 3)]: # [right(height), left(height), upper(width), lower(width)] sides\n",
    "        dists.append(np.linalg.norm(quads[:, i] - quads[:, j], ord=2, axis=1))\n",
    "\n",
    "    dists = np.stack(dists, axis=-1).reshape(-1, 2, 2) # shape (n, 2, 2) widths, heights into separate dim\n",
    "    return np.rint(dists.mean(axis=-1)).astype(int)"
   ]
  },
  {
   "cell_type": "code",
   "execution_count": 7,
   "metadata": {
    "id": "24cTfnCrL9Cr"
   },
   "outputs": [],
   "source": [
    "def rectify_poly(poly, direction, img_w, img_h):\n",
    "    \"\"\"일반 polygon형태인 라벨을 크롭하고 rectify해주는 함수.\n",
    "    Args:\n",
    "        poly: np.ndarray(2n+4, 2) (where n>0), 4, 6, 8\n",
    "        image: np.ndarray opencv 포멧의 이미지\n",
    "        direction: 글자의 읽는 방향과 진행 방향의 수평(Horizontal) 혹은 수직(Vertical) 여부\n",
    "    Return:\n",
    "        rectified: np.ndarray(2, ?) rectify된 단어 bbox의 사이즈.\n",
    "    \"\"\"\n",
    "    \n",
    "    n_pts = poly.shape[0]\n",
    "    assert n_pts % 2 == 0\n",
    "    if n_pts == 4:\n",
    "        size = get_box_size(poly[None])\n",
    "        h = size[:, 0] / img_h\n",
    "        w = size[:, 1] / img_w\n",
    "        return np.stack((h,w))\n",
    "\n",
    "    def unroll(indices):\n",
    "        return list(zip(indices[:-1], indices[1:]))\n",
    "\n",
    "    # polygon하나를 인접한 사각형 여러개로 쪼갠다.\n",
    "    indices = list(range(n_pts))\n",
    "    if direction == 'Horizontal':\n",
    "        upper_pts = unroll(indices[:n_pts // 2]) # (0, 1), (1, 2), ... (4, 5)\n",
    "        lower_pts = unroll(indices[n_pts // 2:])[::-1] # (8, 9), (7, 8), ... (6, 7)\n",
    "\n",
    "        quads = np.stack([poly[[i, j, k, l]] for (i, j), (k, l) in zip(upper_pts, lower_pts)])\n",
    "    else:\n",
    "        right_pts = unroll(indices[1:n_pts // 2 + 1]) # (1, 2), (2, 3), ... (4, 5)\n",
    "        left_pts = unroll([0] + indices[:n_pts // 2:-1]) # (0, 9), (9, 8), ... (7, 6)\n",
    "\n",
    "        quads = np.stack([poly[[i, j, k, l]] for (j, k), (i, l) in zip(right_pts, left_pts)])\n",
    "\n",
    "    sizes = get_box_size(quads)\n",
    "    if direction == 'Horizontal':\n",
    "        h = sizes[:, 0].max() / img_h\n",
    "        widths = sizes[:, 1]\n",
    "        w = np.sum(widths) / img_w\n",
    "        return np.stack((h,w)).reshape(2,-1)\n",
    "        #return np.stack((h,w))\n",
    "    elif direction == 'Vertical':\n",
    "        heights = sizes[:, 0]\n",
    "        w = sizes[:, 1].max() / img_w\n",
    "        h = np.sum(heights) / img_h\n",
    "        return np.stack((h,w)).reshape(2,-1)\n",
    "    else:\n",
    "        h = sizes[:, 0] / img_h\n",
    "        w = sizes[:, 1] / img_w\n",
    "        return np.stack((h,w),-1)"
   ]
  },
  {
   "cell_type": "code",
   "execution_count": 25,
   "metadata": {
    "id": "E9_VkNJcL9Cs"
   },
   "outputs": [],
   "source": [
    "df = {}\n",
    "df['image'] = []\n",
    "df['word_counts'] = []\n",
    "df['image_width'] = []\n",
    "df['image_height'] = []\n",
    "df['image_tags'] = []\n",
    "img_tags = []\n",
    "\n",
    "quads = []\n",
    "polys = []\n",
    "seq_length = []\n",
    "hor_sizes = []\n",
    "ver_sizes = []\n",
    "irr_sizes = []\n",
    "languages = []\n",
    "orientation = []\n",
    "word_tags = []\n",
    "aspect_ratio = []\n",
    "ver_string = []\n",
    "\n",
    "from imageio import imread\n",
    "import os.path as osp\n",
    "\n",
    "for image_key, image_value in data[\"images\"].items():\n",
    "    df['image'].append(image_key)\n",
    "    image_fpath = osp.join(\"../../input/data/ReposData\", 'images', image_key)\n",
    "    image = imread(image_fpath)\n",
    "    img_shape = image.shape\n",
    "    img_w = img_shape[0]\n",
    "    img_h = img_shape[1]\n",
    "    df['image_width'].append(img_w)\n",
    "    df['image_height'].append(img_h)\n",
    "    df['image_tags'].append(image_value['tags'])\n",
    "    df['image_tags']= [['None'] if v is None else v for v in df['image_tags']] # our data does not inlcude multi-tag images \n",
    "    word_ann = image_value['words']\n",
    "    count_ill = 0 \n",
    "    for word in word_ann.values():\n",
    "        if word['illegibility']== False:\n",
    "            orientation.append(word['orientation'])\n",
    "            orientation = [v for v in orientation]\n",
    "            seq_length.append(len(word['transcription']))\n",
    "            languages.append(word['language'])\n",
    "            languages = [['None'] if v is None else v for v in languages] # our data does not inlcude multi-language words\n",
    "            if word['word_tags'] != None:\n",
    "                word_tags.extend(word['word_tags'][:])\n",
    "            elif word['word_tags']== None:\n",
    "                word_tags.append('None')\n",
    "            poly = np.int32(word['points'])\n",
    "            size = rectify_poly(poly, word['orientation'], img_w, img_h)\n",
    "            if word['orientation'] == 'Horizontal':\n",
    "                hor_sizes.append(size)\n",
    "            elif word['orientation'] == 'Vertical':\n",
    "                ver_sizes.append(size)\n",
    "            else:\n",
    "                irr_sizes.append(size)\n",
    "            \n",
    "        else:\n",
    "            count_ill += 1\n",
    "    df['word_counts'].append(len(word_ann)-count_ill)\n",
    "\n",
    "all_sizes = hor_sizes + ver_sizes + irr_sizes\n",
    "quad_area = [all_sizes[i][0]*all_sizes[i][1] for i in range(len(all_sizes))]\n",
    "total_area = []\n",
    "for s in quad_area:\n",
    "    if s.shape[0] == 1:\n",
    "        total_area.append(np.sum(s[0])) \n",
    "    else:\n",
    "        total_area.append(np.sum(s))\n",
    "\n",
    "hor_aspect_ratio = [hor_sizes[i][1]/hor_sizes[i][0] for i in range(len(hor_sizes))]\n",
    "ver_aspect_ratio = [ver_sizes[i][1]/ver_sizes[i][0] for i in range(len(ver_sizes))]\n",
    "\n",
    "image_df = pd.DataFrame.from_dict(df)"
   ]
  },
  {
   "cell_type": "code",
   "execution_count": 26,
   "metadata": {
    "id": "tnSGtrrpL9Ct",
    "outputId": "90512162-bf4e-4a24-e777-0306d3922c14"
   },
   "outputs": [
    {
     "data": {
      "text/html": [
       "<div>\n",
       "<style scoped>\n",
       "    .dataframe tbody tr th:only-of-type {\n",
       "        vertical-align: middle;\n",
       "    }\n",
       "\n",
       "    .dataframe tbody tr th {\n",
       "        vertical-align: top;\n",
       "    }\n",
       "\n",
       "    .dataframe thead th {\n",
       "        text-align: right;\n",
       "    }\n",
       "</style>\n",
       "<table border=\"1\" class=\"dataframe\">\n",
       "  <thead>\n",
       "    <tr style=\"text-align: right;\">\n",
       "      <th></th>\n",
       "      <th>image</th>\n",
       "      <th>word_counts</th>\n",
       "      <th>image_width</th>\n",
       "      <th>image_height</th>\n",
       "      <th>image_tags</th>\n",
       "    </tr>\n",
       "  </thead>\n",
       "  <tbody>\n",
       "    <tr>\n",
       "      <th>0</th>\n",
       "      <td>0518_S00055.jpg</td>\n",
       "      <td>6</td>\n",
       "      <td>1080</td>\n",
       "      <td>1920</td>\n",
       "      <td></td>\n",
       "    </tr>\n",
       "    <tr>\n",
       "      <th>1</th>\n",
       "      <td>0518_S00071.jpg</td>\n",
       "      <td>33</td>\n",
       "      <td>1080</td>\n",
       "      <td>1920</td>\n",
       "      <td></td>\n",
       "    </tr>\n",
       "    <tr>\n",
       "      <th>2</th>\n",
       "      <td>0518_S00279.jpg</td>\n",
       "      <td>2</td>\n",
       "      <td>1080</td>\n",
       "      <td>1920</td>\n",
       "      <td></td>\n",
       "    </tr>\n",
       "    <tr>\n",
       "      <th>3</th>\n",
       "      <td>0518_S00281.jpg</td>\n",
       "      <td>1</td>\n",
       "      <td>1080</td>\n",
       "      <td>1920</td>\n",
       "      <td></td>\n",
       "    </tr>\n",
       "    <tr>\n",
       "      <th>4</th>\n",
       "      <td>0518_S00282.jpg</td>\n",
       "      <td>9</td>\n",
       "      <td>1080</td>\n",
       "      <td>1920</td>\n",
       "      <td></td>\n",
       "    </tr>\n",
       "    <tr>\n",
       "      <th>...</th>\n",
       "      <td>...</td>\n",
       "      <td>...</td>\n",
       "      <td>...</td>\n",
       "      <td>...</td>\n",
       "      <td>...</td>\n",
       "    </tr>\n",
       "    <tr>\n",
       "      <th>1148</th>\n",
       "      <td>0616_S02411.jpg</td>\n",
       "      <td>4</td>\n",
       "      <td>1080</td>\n",
       "      <td>1920</td>\n",
       "      <td></td>\n",
       "    </tr>\n",
       "    <tr>\n",
       "      <th>1149</th>\n",
       "      <td>0616_S02436.jpg</td>\n",
       "      <td>5</td>\n",
       "      <td>1080</td>\n",
       "      <td>1920</td>\n",
       "      <td></td>\n",
       "    </tr>\n",
       "    <tr>\n",
       "      <th>1150</th>\n",
       "      <td>0616_S02441.jpg</td>\n",
       "      <td>16</td>\n",
       "      <td>1080</td>\n",
       "      <td>1920</td>\n",
       "      <td></td>\n",
       "    </tr>\n",
       "    <tr>\n",
       "      <th>1151</th>\n",
       "      <td>0616_S02446.jpg</td>\n",
       "      <td>8</td>\n",
       "      <td>1080</td>\n",
       "      <td>1920</td>\n",
       "      <td></td>\n",
       "    </tr>\n",
       "    <tr>\n",
       "      <th>1152</th>\n",
       "      <td>0616_S02473.jpg</td>\n",
       "      <td>8</td>\n",
       "      <td>1080</td>\n",
       "      <td>1920</td>\n",
       "      <td></td>\n",
       "    </tr>\n",
       "  </tbody>\n",
       "</table>\n",
       "<p>1153 rows × 5 columns</p>\n",
       "</div>"
      ],
      "text/plain": [
       "                image  word_counts  image_width  image_height image_tags\n",
       "0     0518_S00055.jpg            6         1080          1920           \n",
       "1     0518_S00071.jpg           33         1080          1920           \n",
       "2     0518_S00279.jpg            2         1080          1920           \n",
       "3     0518_S00281.jpg            1         1080          1920           \n",
       "4     0518_S00282.jpg            9         1080          1920           \n",
       "...               ...          ...          ...           ...        ...\n",
       "1148  0616_S02411.jpg            4         1080          1920           \n",
       "1149  0616_S02436.jpg            5         1080          1920           \n",
       "1150  0616_S02441.jpg           16         1080          1920           \n",
       "1151  0616_S02446.jpg            8         1080          1920           \n",
       "1152  0616_S02473.jpg            8         1080          1920           \n",
       "\n",
       "[1153 rows x 5 columns]"
      ]
     },
     "execution_count": 26,
     "metadata": {},
     "output_type": "execute_result"
    }
   ],
   "source": [
    "image_df['image_tags'] = image_df['image_tags'].apply(lambda x: ','.join(map(str, x)))\n",
    "image_df"
   ]
  },
  {
   "cell_type": "code",
   "execution_count": 27,
   "metadata": {
    "id": "xOcHV3lXL9Ct",
    "outputId": "5209e90e-6ea6-4aa7-dee0-a746bd08857e"
   },
   "outputs": [
    {
     "data": {
      "text/plain": [
       "count     1153\n",
       "unique       1\n",
       "top           \n",
       "freq      1153\n",
       "Name: image_tags, dtype: object"
      ]
     },
     "execution_count": 27,
     "metadata": {},
     "output_type": "execute_result"
    }
   ],
   "source": [
    "image_df['image_tags'].describe()"
   ]
  },
  {
   "cell_type": "code",
   "execution_count": 28,
   "metadata": {
    "id": "KtkwFihkL9Cu",
    "outputId": "9a682578-f3f9-4970-d29e-6fe044558ec9"
   },
   "outputs": [
    {
     "data": {
      "text/plain": [
       "{''}"
      ]
     },
     "execution_count": 28,
     "metadata": {},
     "output_type": "execute_result"
    }
   ],
   "source": [
    "# check if there are image with multiple image tags (which would apper as e.g. \"document, outfocus\")\n",
    "set(image_df['image_tags'].tolist())"
   ]
  },
  {
   "cell_type": "code",
   "execution_count": 29,
   "metadata": {
    "id": "ROlVnxDVL9Cu",
    "outputId": "384ee963-0b77-464c-da94-c7881f4465bd"
   },
   "outputs": [
    {
     "data": {
      "text/html": [
       "<div>\n",
       "<style scoped>\n",
       "    .dataframe tbody tr th:only-of-type {\n",
       "        vertical-align: middle;\n",
       "    }\n",
       "\n",
       "    .dataframe tbody tr th {\n",
       "        vertical-align: top;\n",
       "    }\n",
       "\n",
       "    .dataframe thead th {\n",
       "        text-align: right;\n",
       "    }\n",
       "</style>\n",
       "<table border=\"1\" class=\"dataframe\">\n",
       "  <thead>\n",
       "    <tr style=\"text-align: right;\">\n",
       "      <th></th>\n",
       "      <th>word_counts</th>\n",
       "      <th>image_width</th>\n",
       "      <th>image_height</th>\n",
       "    </tr>\n",
       "  </thead>\n",
       "  <tbody>\n",
       "    <tr>\n",
       "      <th>count</th>\n",
       "      <td>1153.000000</td>\n",
       "      <td>1153.0</td>\n",
       "      <td>1153.0</td>\n",
       "    </tr>\n",
       "    <tr>\n",
       "      <th>mean</th>\n",
       "      <td>7.756288</td>\n",
       "      <td>1080.0</td>\n",
       "      <td>1920.0</td>\n",
       "    </tr>\n",
       "    <tr>\n",
       "      <th>std</th>\n",
       "      <td>5.434148</td>\n",
       "      <td>0.0</td>\n",
       "      <td>0.0</td>\n",
       "    </tr>\n",
       "    <tr>\n",
       "      <th>min</th>\n",
       "      <td>1.000000</td>\n",
       "      <td>1080.0</td>\n",
       "      <td>1920.0</td>\n",
       "    </tr>\n",
       "    <tr>\n",
       "      <th>25%</th>\n",
       "      <td>4.000000</td>\n",
       "      <td>1080.0</td>\n",
       "      <td>1920.0</td>\n",
       "    </tr>\n",
       "    <tr>\n",
       "      <th>50%</th>\n",
       "      <td>6.000000</td>\n",
       "      <td>1080.0</td>\n",
       "      <td>1920.0</td>\n",
       "    </tr>\n",
       "    <tr>\n",
       "      <th>75%</th>\n",
       "      <td>10.000000</td>\n",
       "      <td>1080.0</td>\n",
       "      <td>1920.0</td>\n",
       "    </tr>\n",
       "    <tr>\n",
       "      <th>max</th>\n",
       "      <td>39.000000</td>\n",
       "      <td>1080.0</td>\n",
       "      <td>1920.0</td>\n",
       "    </tr>\n",
       "  </tbody>\n",
       "</table>\n",
       "</div>"
      ],
      "text/plain": [
       "       word_counts  image_width  image_height\n",
       "count  1153.000000       1153.0        1153.0\n",
       "mean      7.756288       1080.0        1920.0\n",
       "std       5.434148          0.0           0.0\n",
       "min       1.000000       1080.0        1920.0\n",
       "25%       4.000000       1080.0        1920.0\n",
       "50%       6.000000       1080.0        1920.0\n",
       "75%      10.000000       1080.0        1920.0\n",
       "max      39.000000       1080.0        1920.0"
      ]
     },
     "execution_count": 29,
     "metadata": {},
     "output_type": "execute_result"
    }
   ],
   "source": [
    "image_df.describe()"
   ]
  },
  {
   "cell_type": "code",
   "execution_count": 18,
   "metadata": {
    "id": "cKJu9bOQL9Cu",
    "outputId": "04064846-a42b-4326-89ce-fca74423fb33"
   },
   "outputs": [
    {
     "data": {
      "text/plain": [
       "'0518_S00055.jpg'"
      ]
     },
     "execution_count": 18,
     "metadata": {},
     "output_type": "execute_result"
    }
   ],
   "source": [
    "# just for checking\n",
    "list(data['images'].keys())[0]"
   ]
  },
  {
   "cell_type": "code",
   "execution_count": 19,
   "metadata": {
    "id": "Ew54X0ZwL9Cu",
    "outputId": "07f736ae-3c2b-4c1b-dd01-74be4ee16020"
   },
   "outputs": [
    {
     "data": {
      "text/plain": [
       "dict_keys(['paragraphs', 'words', 'chars', 'tags', 'relations', 'license_tag'])"
      ]
     },
     "execution_count": 19,
     "metadata": {},
     "output_type": "execute_result"
    }
   ],
   "source": [
    "first_img = list(data['images'].keys())[0]\n",
    "data[\"images\"][first_img].keys()"
   ]
  },
  {
   "cell_type": "code",
   "execution_count": 30,
   "metadata": {
    "id": "DuHJ4j7rL9Cv",
    "outputId": "0e9c6daa-b6bd-448e-eaf2-f4cfebad5cc2"
   },
   "outputs": [
    {
     "name": "stderr",
     "output_type": "stream",
     "text": [
      "/opt/conda/lib/python3.8/site-packages/seaborn/_decorators.py:36: FutureWarning: Pass the following variables as keyword args: x, y. From version 0.12, the only valid positional argument will be `data`, and passing other arguments without an explicit keyword will result in an error or misinterpretation.\n",
      "  warnings.warn(\n",
      "/opt/conda/lib/python3.8/site-packages/seaborn/distributions.py:316: UserWarning: Dataset has 0 variance; skipping density estimate. Pass `warn_singular=False` to disable this warning.\n",
      "  warnings.warn(msg, UserWarning)\n",
      "/opt/conda/lib/python3.8/site-packages/seaborn/distributions.py:316: UserWarning: Dataset has 0 variance; skipping density estimate. Pass `warn_singular=False` to disable this warning.\n",
      "  warnings.warn(msg, UserWarning)\n"
     ]
    },
    {
     "data": {
      "text/plain": [
       "<seaborn.axisgrid.JointGrid at 0x7f7e637b3250>"
      ]
     },
     "execution_count": 30,
     "metadata": {},
     "output_type": "execute_result"
    },
    {
     "data": {
      "image/png": "[encoded data removed]",
      "text/plain": [
       "<Figure size 432x432 with 3 Axes>"
      ]
     },
     "metadata": {
      "needs_background": "light"
     },
     "output_type": "display_data"
    }
   ],
   "source": [
    "# image width, height \n",
    "g = sns.jointplot(\"image_width\", \"image_height\", data=image_df, kind=\"kde\", space=0, color=\"r\")\n",
    "g.set_axis_labels(\"Image Width\", \"Image Height\")"
   ]
  },
  {
   "cell_type": "code",
   "execution_count": 31,
   "metadata": {
    "id": "lUAasu_WL9Cv"
   },
   "outputs": [],
   "source": [
    "def create_count_df(df, field, index):\n",
    "    count=df.groupby(field)[index].count().sort_values(ascending=False)\n",
    "    count_df = count.to_frame().reset_index()\n",
    "    count_df.columns = [field, field + '_count']\n",
    "    return count_df\n",
    "\n",
    "def plot_count_df(df, field, random_sample, color, rotation, xlabel, ylabel, title):\n",
    "    fig, ax = plt.subplots(figsize=(10,6))\n",
    "    if random_sample:\n",
    "        df = df.sample(n=50, random_state=1)\n",
    "    bars = ax.bar(df[field], df[field + '_count'], color=color, align='center',alpha=0.5)\n",
    "    for i, b in enumerate(bars):\n",
    "        ax.text(b.get_x()+b.get_width()*(1/2),b.get_height()+0.1, \\\n",
    "                df.iloc[i][field + '_count'],ha='center',fontsize=13)\n",
    "    ax.set_xticklabels(df[field],rotation=rotation, fontsize=13)\n",
    "    ax.set_xlabel(xlabel, fontsize=13)\n",
    "    ax.set_ylabel(ylabel, fontsize=13)\n",
    "    ax.set_title(title, fontsize=20)\n",
    "    plt.show()\n",
    "    "
   ]
  },
  {
   "cell_type": "code",
   "execution_count": 32,
   "metadata": {
    "id": "87mcouiRL9Cv",
    "outputId": "7c38a51d-a649-4317-8714-b38cfa3f54cb"
   },
   "outputs": [
    {
     "name": "stderr",
     "output_type": "stream",
     "text": [
      "/tmp/ipykernel_38455/2687934052.py:15: UserWarning: FixedFormatter should only be used together with FixedLocator\n",
      "  ax.set_xticklabels(df[field],rotation=rotation, fontsize=13)\n"
     ]
    },
    {
     "data": {
      "image/png": "[encoded data removed]",
      "text/plain": [
       "<Figure size 720x432 with 1 Axes>"
      ]
     },
     "metadata": {
      "needs_background": "light"
     },
     "output_type": "display_data"
    }
   ],
   "source": [
    "img_tag_df = create_count_df(df=image_df, field='image_tags', index='image')\n",
    "plot_count_df(df=img_tag_df, field='image_tags', random_sample=False, color='g', rotation=0, xlabel='image tag', \\\n",
    "              ylabel='Number of image tag', title='Image Tag Distribution')"
   ]
  },
  {
   "cell_type": "code",
   "execution_count": 33,
   "metadata": {
    "id": "4rPu6i9FL9Cv",
    "outputId": "2d0cc815-372c-4fa2-8aa4-775644f1c15b"
   },
   "outputs": [
    {
     "name": "stderr",
     "output_type": "stream",
     "text": [
      "/tmp/ipykernel_38455/2687934052.py:15: UserWarning: FixedFormatter should only be used together with FixedLocator\n",
      "  ax.set_xticklabels(df[field],rotation=rotation, fontsize=13)\n"
     ]
    },
    {
     "data": {
      "image/png": "[encoded data removed]",
      "text/plain": [
       "<Figure size 720x432 with 1 Axes>"
      ]
     },
     "metadata": {
      "needs_background": "light"
     },
     "output_type": "display_data"
    }
   ],
   "source": [
    "# Total word tags \n",
    "word_tag_df = pd.DataFrame(word_tags, columns = ['word_tags'])\n",
    "word_tag_df['index'] = [i for i in range(len(word_tags))]\n",
    "word_tag_df = create_count_df(word_tag_df, field='word_tags',index='index')\n",
    "plot_count_df(df=word_tag_df, field='word_tags', random_sample=False, color='g', rotation=0, xlabel='word tags', \\\n",
    "              ylabel='Count of each word tag', title='Word tag Distribution')"
   ]
  },
  {
   "cell_type": "code",
   "execution_count": 34,
   "metadata": {
    "id": "-XCARHM-L9Cv",
    "outputId": "c6c332be-9c92-4121-b5b4-cd75ba5e02f0"
   },
   "outputs": [
    {
     "data": {
      "text/plain": [
       "8559"
      ]
     },
     "execution_count": 34,
     "metadata": {},
     "output_type": "execute_result"
    }
   ],
   "source": [
    "word_tag_df.iloc[0]['word_tags_count']"
   ]
  },
  {
   "cell_type": "code",
   "execution_count": 35,
   "metadata": {
    "id": "CPGWzkbGL9Cw"
   },
   "outputs": [],
   "source": [
    "def plot_dist(df, field, bins, color, xlabel, ylabel, title):\n",
    "    sns.set(color_codes=True)\n",
    "    fig, ax = plt.subplots(figsize=(18,6))\n",
    "    sns.distplot(df[field], bins=bins, color=color, ax=ax)\n",
    "    \n",
    "    ax.set_xlabel(xlabel, fontsize=13)\n",
    "    ax.set_ylabel(ylabel, fontsize=13)\n",
    "    ax.set_title(title, fontsize=20)\n",
    "    plt.show()"
   ]
  },
  {
   "cell_type": "code",
   "execution_count": 38,
   "metadata": {
    "id": "GfyWtMeKL9Cw",
    "outputId": "0c0202c6-d40c-432f-8496-f1d3a70f1c77"
   },
   "outputs": [
    {
     "name": "stderr",
     "output_type": "stream",
     "text": [
      "/opt/conda/lib/python3.8/site-packages/seaborn/distributions.py:2619: FutureWarning: `distplot` is a deprecated function and will be removed in a future version. Please adapt your code to use either `displot` (a figure-level function with similar flexibility) or `histplot` (an axes-level function for histograms).\n",
      "  warnings.warn(msg, FutureWarning)\n"
     ]
    },
    {
     "data": {
      "image/png": "[encoded data removed]",
      "text/plain": [
       "<Figure size 1296x432 with 1 Axes>"
      ]
     },
     "metadata": {},
     "output_type": "display_data"
    }
   ],
   "source": [
    "plot_dist(df=image_df, field='word_counts', bins=50, color='b', xlabel='number of words per Image', \\\n",
    "          ylabel='Frequency', title='Words per Image Distribution')"
   ]
  },
  {
   "cell_type": "code",
   "execution_count": 39,
   "metadata": {
    "id": "kSC9LAWXL9Cw"
   },
   "outputs": [],
   "source": [
    "word_df ={}\n",
    "word_df['index'] = [i for i in range(len(total_area))]\n",
    "word_df['orientation'] = orientation\n",
    "word_df['language'] = languages\n",
    "word_df['bbox_size'] = total_area"
   ]
  },
  {
   "cell_type": "code",
   "execution_count": 40,
   "metadata": {
    "id": "gYs2m8x4L9Cw"
   },
   "outputs": [],
   "source": [
    "word_df = pd.DataFrame.from_dict(word_df)"
   ]
  },
  {
   "cell_type": "code",
   "execution_count": 41,
   "metadata": {
    "id": "TQIQ3X3NL9Cw",
    "outputId": "91bd0c4c-b9fa-4fde-c08a-a9af1362d11a"
   },
   "outputs": [
    {
     "data": {
      "text/html": [
       "<div>\n",
       "<style scoped>\n",
       "    .dataframe tbody tr th:only-of-type {\n",
       "        vertical-align: middle;\n",
       "    }\n",
       "\n",
       "    .dataframe tbody tr th {\n",
       "        vertical-align: top;\n",
       "    }\n",
       "\n",
       "    .dataframe thead th {\n",
       "        text-align: right;\n",
       "    }\n",
       "</style>\n",
       "<table border=\"1\" class=\"dataframe\">\n",
       "  <thead>\n",
       "    <tr style=\"text-align: right;\">\n",
       "      <th></th>\n",
       "      <th>index</th>\n",
       "      <th>orientation</th>\n",
       "      <th>language</th>\n",
       "      <th>bbox_size</th>\n",
       "    </tr>\n",
       "  </thead>\n",
       "  <tbody>\n",
       "    <tr>\n",
       "      <th>0</th>\n",
       "      <td>0</td>\n",
       "      <td>Horizontal</td>\n",
       "      <td>ko</td>\n",
       "      <td>0.000320</td>\n",
       "    </tr>\n",
       "    <tr>\n",
       "      <th>1</th>\n",
       "      <td>1</td>\n",
       "      <td>Horizontal</td>\n",
       "      <td>ko</td>\n",
       "      <td>0.004246</td>\n",
       "    </tr>\n",
       "    <tr>\n",
       "      <th>2</th>\n",
       "      <td>2</td>\n",
       "      <td>Horizontal</td>\n",
       "      <td>ko</td>\n",
       "      <td>0.006060</td>\n",
       "    </tr>\n",
       "    <tr>\n",
       "      <th>3</th>\n",
       "      <td>3</td>\n",
       "      <td>Horizontal</td>\n",
       "      <td>ko</td>\n",
       "      <td>0.000148</td>\n",
       "    </tr>\n",
       "    <tr>\n",
       "      <th>4</th>\n",
       "      <td>4</td>\n",
       "      <td>Horizontal</td>\n",
       "      <td>ko</td>\n",
       "      <td>0.001977</td>\n",
       "    </tr>\n",
       "    <tr>\n",
       "      <th>...</th>\n",
       "      <td>...</td>\n",
       "      <td>...</td>\n",
       "      <td>...</td>\n",
       "      <td>...</td>\n",
       "    </tr>\n",
       "    <tr>\n",
       "      <th>8938</th>\n",
       "      <td>8938</td>\n",
       "      <td>Horizontal</td>\n",
       "      <td>ko</td>\n",
       "      <td>0.014699</td>\n",
       "    </tr>\n",
       "    <tr>\n",
       "      <th>8939</th>\n",
       "      <td>8939</td>\n",
       "      <td>Horizontal</td>\n",
       "      <td>ko</td>\n",
       "      <td>0.016901</td>\n",
       "    </tr>\n",
       "    <tr>\n",
       "      <th>8940</th>\n",
       "      <td>8940</td>\n",
       "      <td>Horizontal</td>\n",
       "      <td>ko</td>\n",
       "      <td>0.004550</td>\n",
       "    </tr>\n",
       "    <tr>\n",
       "      <th>8941</th>\n",
       "      <td>8941</td>\n",
       "      <td>Horizontal</td>\n",
       "      <td>ko</td>\n",
       "      <td>0.002582</td>\n",
       "    </tr>\n",
       "    <tr>\n",
       "      <th>8942</th>\n",
       "      <td>8942</td>\n",
       "      <td>Horizontal</td>\n",
       "      <td>ko</td>\n",
       "      <td>0.009560</td>\n",
       "    </tr>\n",
       "  </tbody>\n",
       "</table>\n",
       "<p>8943 rows × 4 columns</p>\n",
       "</div>"
      ],
      "text/plain": [
       "      index orientation language  bbox_size\n",
       "0         0  Horizontal       ko   0.000320\n",
       "1         1  Horizontal       ko   0.004246\n",
       "2         2  Horizontal       ko   0.006060\n",
       "3         3  Horizontal       ko   0.000148\n",
       "4         4  Horizontal       ko   0.001977\n",
       "...     ...         ...      ...        ...\n",
       "8938   8938  Horizontal       ko   0.014699\n",
       "8939   8939  Horizontal       ko   0.016901\n",
       "8940   8940  Horizontal       ko   0.004550\n",
       "8941   8941  Horizontal       ko   0.002582\n",
       "8942   8942  Horizontal       ko   0.009560\n",
       "\n",
       "[8943 rows x 4 columns]"
      ]
     },
     "execution_count": 41,
     "metadata": {},
     "output_type": "execute_result"
    }
   ],
   "source": [
    "word_df['language'] = word_df['language'].apply(lambda x: ','.join(map(str, x)))\n",
    "word_df"
   ]
  },
  {
   "cell_type": "code",
   "execution_count": 42,
   "metadata": {
    "id": "YBRAOke8L9Cw",
    "outputId": "1a316ea3-f4ed-4cb3-a701-c866e96076ee"
   },
   "outputs": [
    {
     "data": {
      "text/plain": [
       "count    8943.000000\n",
       "mean        0.026568\n",
       "std         0.077124\n",
       "min         0.000003\n",
       "25%         0.000942\n",
       "50%         0.004148\n",
       "75%         0.017080\n",
       "max         1.807617\n",
       "Name: bbox_size, dtype: float64"
      ]
     },
     "execution_count": 42,
     "metadata": {},
     "output_type": "execute_result"
    }
   ],
   "source": [
    "word_df.describe()['bbox_size']"
   ]
  },
  {
   "cell_type": "code",
   "execution_count": 43,
   "metadata": {
    "id": "1fx0H_6YL9Cw",
    "outputId": "e30ec843-a795-4e84-91f7-97e278b60460"
   },
   "outputs": [
    {
     "data": {
      "text/plain": [
       "Index(['index', 'orientation', 'language', 'bbox_size'], dtype='object')"
      ]
     },
     "execution_count": 43,
     "metadata": {},
     "output_type": "execute_result"
    }
   ],
   "source": [
    "word_df.columns"
   ]
  },
  {
   "cell_type": "code",
   "execution_count": 44,
   "metadata": {
    "id": "rl7ox33cL9Cw",
    "outputId": "a8d0a2bc-c42b-4600-aa5c-c9da49beb721"
   },
   "outputs": [
    {
     "name": "stderr",
     "output_type": "stream",
     "text": [
      "/tmp/ipykernel_38455/2687934052.py:15: UserWarning: FixedFormatter should only be used together with FixedLocator\n",
      "  ax.set_xticklabels(df[field],rotation=rotation, fontsize=13)\n"
     ]
    },
    {
     "data": {
      "image/png": "[encoded data removed]",
      "text/plain": [
       "<Figure size 720x432 with 1 Axes>"
      ]
     },
     "metadata": {},
     "output_type": "display_data"
    }
   ],
   "source": [
    "orientation = create_count_df(df=word_df, field='orientation', index='index')\n",
    "plot_count_df(df=orientation, field='orientation', random_sample=False, color='g', rotation=0, xlabel='orientation', \\\n",
    "              ylabel='Count of each orientation', title='Orientation Distribution')"
   ]
  },
  {
   "cell_type": "code",
   "execution_count": 45,
   "metadata": {
    "id": "6bmqpwAwL9Cw",
    "outputId": "0228b552-f197-4c92-e83d-e4688b514930"
   },
   "outputs": [
    {
     "data": {
      "text/html": [
       "<div>\n",
       "<style scoped>\n",
       "    .dataframe tbody tr th:only-of-type {\n",
       "        vertical-align: middle;\n",
       "    }\n",
       "\n",
       "    .dataframe tbody tr th {\n",
       "        vertical-align: top;\n",
       "    }\n",
       "\n",
       "    .dataframe thead th {\n",
       "        text-align: right;\n",
       "    }\n",
       "</style>\n",
       "<table border=\"1\" class=\"dataframe\">\n",
       "  <thead>\n",
       "    <tr style=\"text-align: right;\">\n",
       "      <th></th>\n",
       "      <th>orientation</th>\n",
       "      <th>orientation_count</th>\n",
       "    </tr>\n",
       "  </thead>\n",
       "  <tbody>\n",
       "    <tr>\n",
       "      <th>0</th>\n",
       "      <td>Horizontal</td>\n",
       "      <td>8720</td>\n",
       "    </tr>\n",
       "    <tr>\n",
       "      <th>1</th>\n",
       "      <td>Vertical</td>\n",
       "      <td>223</td>\n",
       "    </tr>\n",
       "  </tbody>\n",
       "</table>\n",
       "</div>"
      ],
      "text/plain": [
       "  orientation  orientation_count\n",
       "0  Horizontal               8720\n",
       "1    Vertical                223"
      ]
     },
     "execution_count": 45,
     "metadata": {},
     "output_type": "execute_result"
    }
   ],
   "source": [
    "orientation"
   ]
  },
  {
   "cell_type": "code",
   "execution_count": 46,
   "metadata": {
    "id": "sTQ615PrL9Cw",
    "outputId": "42befbb7-92cb-4b1e-b3fc-2094f4000fb6"
   },
   "outputs": [
    {
     "name": "stderr",
     "output_type": "stream",
     "text": [
      "/tmp/ipykernel_38455/2687934052.py:15: UserWarning: FixedFormatter should only be used together with FixedLocator\n",
      "  ax.set_xticklabels(df[field],rotation=rotation, fontsize=13)\n"
     ]
    },
    {
     "data": {
      "image/png": "[encoded data removed]",
      "text/plain": [
       "<Figure size 720x432 with 1 Axes>"
      ]
     },
     "metadata": {},
     "output_type": "display_data"
    }
   ],
   "source": [
    "# None means it's either a different language or a special symbol\n",
    "lang = create_count_df(df=word_df, field='language', index='index')\n",
    "plot_count_df(df=lang, field='language', random_sample=False, color='g', rotation=0, xlabel='language', \\\n",
    "              ylabel='Count of each language', title='Language Distribution')"
   ]
  },
  {
   "cell_type": "code",
   "execution_count": 47,
   "metadata": {
    "id": "6ZQP1V_nL9Cw",
    "outputId": "1abb0219-8472-4780-d6b1-5d938ebaaa1b"
   },
   "outputs": [
    {
     "name": "stderr",
     "output_type": "stream",
     "text": [
      "/opt/conda/lib/python3.8/site-packages/seaborn/distributions.py:2619: FutureWarning: `distplot` is a deprecated function and will be removed in a future version. Please adapt your code to use either `displot` (a figure-level function with similar flexibility) or `histplot` (an axes-level function for histograms).\n",
      "  warnings.warn(msg, FutureWarning)\n"
     ]
    },
    {
     "data": {
      "image/png": "[encoded data removed]",
      "text/plain": [
       "<Figure size 1296x432 with 1 Axes>"
      ]
     },
     "metadata": {},
     "output_type": "display_data"
    }
   ],
   "source": [
    "plot_dist(df=word_df, field='bbox_size', bins=200, color='r', xlabel='BBOX size', \\\n",
    "          ylabel='Frequency', title='BBOX size')"
   ]
  },
  {
   "cell_type": "code",
   "execution_count": 48,
   "metadata": {
    "id": "S5BdAj4wL9Cw"
   },
   "outputs": [],
   "source": [
    "def plot_dist_list(target_list, bins, color, xlabel, ylabel, title):\n",
    "    sns.set(color_codes=True)\n",
    "    fig, ax = plt.subplots(figsize=(18,6))\n",
    "    sns.distplot(target_list, bins=bins, color=color, ax=ax)\n",
    "    ax.set_xlabel(xlabel, fontsize=13)\n",
    "    ax.set_ylabel(ylabel, fontsize=13)\n",
    "    ax.set_title(title, fontsize=20)\n",
    "    plt.show()"
   ]
  },
  {
   "cell_type": "code",
   "execution_count": 49,
   "metadata": {
    "id": "gU8dLwLhL9Cw",
    "outputId": "ab8bcc0a-9d61-4966-ef18-fc4dbf817f94"
   },
   "outputs": [
    {
     "data": {
      "text/html": [
       "<div>\n",
       "<style scoped>\n",
       "    .dataframe tbody tr th:only-of-type {\n",
       "        vertical-align: middle;\n",
       "    }\n",
       "\n",
       "    .dataframe tbody tr th {\n",
       "        vertical-align: top;\n",
       "    }\n",
       "\n",
       "    .dataframe thead th {\n",
       "        text-align: right;\n",
       "    }\n",
       "</style>\n",
       "<table border=\"1\" class=\"dataframe\">\n",
       "  <thead>\n",
       "    <tr style=\"text-align: right;\">\n",
       "      <th></th>\n",
       "      <th>aspect ratio</th>\n",
       "    </tr>\n",
       "  </thead>\n",
       "  <tbody>\n",
       "    <tr>\n",
       "      <th>count</th>\n",
       "      <td>223.000000</td>\n",
       "    </tr>\n",
       "    <tr>\n",
       "      <th>mean</th>\n",
       "      <td>2.570196</td>\n",
       "    </tr>\n",
       "    <tr>\n",
       "      <th>std</th>\n",
       "      <td>3.672695</td>\n",
       "    </tr>\n",
       "    <tr>\n",
       "      <th>min</th>\n",
       "      <td>0.093322</td>\n",
       "    </tr>\n",
       "    <tr>\n",
       "      <th>25%</th>\n",
       "      <td>0.575437</td>\n",
       "    </tr>\n",
       "    <tr>\n",
       "      <th>50%</th>\n",
       "      <td>1.035940</td>\n",
       "    </tr>\n",
       "    <tr>\n",
       "      <th>75%</th>\n",
       "      <td>3.619953</td>\n",
       "    </tr>\n",
       "    <tr>\n",
       "      <th>max</th>\n",
       "      <td>40.691358</td>\n",
       "    </tr>\n",
       "  </tbody>\n",
       "</table>\n",
       "</div>"
      ],
      "text/plain": [
       "       aspect ratio\n",
       "count    223.000000\n",
       "mean       2.570196\n",
       "std        3.672695\n",
       "min        0.093322\n",
       "25%        0.575437\n",
       "50%        1.035940\n",
       "75%        3.619953\n",
       "max       40.691358"
      ]
     },
     "execution_count": 49,
     "metadata": {},
     "output_type": "execute_result"
    }
   ],
   "source": [
    "pd.DataFrame(ver_aspect_ratio, columns=['aspect ratio']).describe()"
   ]
  },
  {
   "cell_type": "code",
   "execution_count": 50,
   "metadata": {
    "id": "fI7YcqtZL9Cx",
    "outputId": "bc3325e7-7a0d-4351-e16f-e0e60dd7754d"
   },
   "outputs": [
    {
     "name": "stderr",
     "output_type": "stream",
     "text": [
      "/opt/conda/lib/python3.8/site-packages/seaborn/distributions.py:2619: FutureWarning: `distplot` is a deprecated function and will be removed in a future version. Please adapt your code to use either `displot` (a figure-level function with similar flexibility) or `histplot` (an axes-level function for histograms).\n",
      "  warnings.warn(msg, FutureWarning)\n"
     ]
    },
    {
     "data": {
      "image/png": "[encoded data removed]",
      "text/plain": [
       "<Figure size 1296x432 with 1 Axes>"
      ]
     },
     "metadata": {},
     "output_type": "display_data"
    }
   ],
   "source": [
    "# 한 두글자짜리 단어나 숫자의 경우 aspect ratio가 1미만인 경우가 있다\n",
    "plot_dist_list(hor_aspect_ratio, bins=20, color='r', xlabel='Aspect Ratio (BBOX Width / BBOX Height)', \\\n",
    "          ylabel='Frequency', title='Aspect Ratio Distribution (Horizontal words)')"
   ]
  },
  {
   "cell_type": "code",
   "execution_count": 51,
   "metadata": {
    "id": "uMylTv-tL9Cx",
    "outputId": "21c54831-ff69-42ae-e42f-9bc5d186b471"
   },
   "outputs": [
    {
     "name": "stderr",
     "output_type": "stream",
     "text": [
      "/opt/conda/lib/python3.8/site-packages/seaborn/distributions.py:2619: FutureWarning: `distplot` is a deprecated function and will be removed in a future version. Please adapt your code to use either `displot` (a figure-level function with similar flexibility) or `histplot` (an axes-level function for histograms).\n",
      "  warnings.warn(msg, FutureWarning)\n"
     ]
    },
    {
     "data": {
      "image/png": "[encoded data removed]",
      "text/plain": [
       "<Figure size 1296x432 with 1 Axes>"
      ]
     },
     "metadata": {},
     "output_type": "display_data"
    }
   ],
   "source": [
    "# aspect ratio가 1.88정도 되는 경우가 하나 있음. 이미지에서 글자가 왜곡되어 있었고 박스가 약간 널널하게 잡힌 케이스. \n",
    "plot_dist_list(ver_aspect_ratio, bins=20, color='r', xlabel='Aspect Ratio (BBOX Width / BBOX Height)', \\\n",
    "          ylabel='Frequency', title='Aspect Ratio Distribution (Veritcal words)')"
   ]
  },
  {
   "cell_type": "code",
   "execution_count": null,
   "metadata": {
    "id": "j0L_YEPTL9Cx"
   },
   "outputs": [],
   "source": []
  },
  {
   "cell_type": "code",
   "execution_count": null,
   "metadata": {
    "id": "yjdP8vmYL9Cx"
   },
   "outputs": [],
   "source": []
  },
  {
   "cell_type": "code",
   "execution_count": null,
   "metadata": {
    "id": "J-54Pb_6L9Cx"
   },
   "outputs": [],
   "source": []
  }
 ],
 "metadata": {
  "colab": {
   "collapsed_sections": [],
   "name": "OCR_EDA_revised.ipynb",
   "provenance": []
  },
  "kernelspec": {
   "display_name": "Python 3 (ipykernel)",
   "language": "python",
   "name": "python3"
  },
  "language_info": {
   "codemirror_mode": {
    "name": "ipython",
    "version": 3
   },
   "file_extension": ".py",
   "mimetype": "text/x-python",
   "name": "python",
   "nbconvert_exporter": "python",
   "pygments_lexer": "ipython3",
   "version": "3.8.5"
  }
 },
 "nbformat": 4,
 "nbformat_minor": 4
}
